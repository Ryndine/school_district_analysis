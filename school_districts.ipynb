{
 "cells": [
  {
   "cell_type": "code",
   "execution_count": 51,
   "metadata": {},
   "outputs": [],
   "source": [
    "import pandas as pd\n",
    "import os"
   ]
  },
  {
   "cell_type": "code",
   "execution_count": 52,
   "metadata": {},
   "outputs": [
    {
     "name": "stdout",
     "output_type": "stream",
     "text": [
      "School ID      0\n",
      "school_name    0\n",
      "type           0\n",
      "size           0\n",
      "budget         0\n",
      "dtype: int64\n",
      "Student ID       0\n",
      "student_name     0\n",
      "gender           0\n",
      "grade            0\n",
      "school_name      0\n",
      "reading_score    0\n",
      "math_score       0\n",
      "dtype: int64\n"
     ]
    }
   ],
   "source": [
    "# Raw files\n",
    "school_data = pd.read_csv(R'Resources\\schools_complete.csv')\n",
    "student_data = pd.read_csv(R'Resources\\students_complete.csv')\n",
    "\n",
    "# Checking for missing data.\n",
    "print(school_data.isnull().sum())\n",
    "print(student_data.isnull().sum())"
   ]
  },
  {
   "cell_type": "code",
   "execution_count": 53,
   "metadata": {},
   "outputs": [
    {
     "name": "stdout",
     "output_type": "stream",
     "text": [
      "['Dr.', 'Mr.', 'Miss', 'Luke', 'Mrs.', 'Mary', 'Tara', 'John', 'Dale', 'Ms.', 'Amy', 'Lisa', 'Mark', 'Cody', 'Sara', 'Ryan', 'Tony', 'Jodi', 'Ruth', 'Adam', 'Eric', 'Kyle', 'Lynn', 'Jon', 'Judy', 'Tina', 'Paul', 'Marc', 'Jill', 'Carl', 'Jose', 'Emma', 'Gary', 'Lori', 'Noah', 'Dawn', 'Chad', 'Anne', 'Troy', 'Anna', 'Mike', 'Todd', 'Leah', 'Ian', 'Kari', 'Kara', 'Cory', 'Erin', 'Greg', 'Joe', 'Dana', 'Erik', 'Gail', 'Omar', 'Seth', 'Gina', 'Sean', 'Toni', 'Kim']\n",
      "['MD', 'III', 'DVM', 'DDS', 'II', 'PhD', 'Lee', 'Jr.', 'IV', 'Cox', 'Roy', 'Day', 'V', 'Kim', 'Li']\n"
     ]
    }
   ],
   "source": [
    "# Student names has prefixes and suffixes so I need to remove those.\n",
    "student_names = student_data['student_name'].tolist()\n",
    "\n",
    "students_to_fix = []\n",
    "for name in student_names:\n",
    "    if len(name.split()) >= 3:\n",
    "        students_to_fix.append(name)\n",
    "\n",
    "prefixes = []\n",
    "for name in students_to_fix:\n",
    "    if len(name.split()[0]) <= 4:\n",
    "        if name.split()[0] not in prefixes:\n",
    "            prefixes.append(name.split()[0])\n",
    "        else:\n",
    "            pass\n",
    "print(prefixes)\n",
    "\n",
    "suffixes = []\n",
    "for name in students_to_fix:\n",
    "    if len(name.split()[-1]) <= 3:\n",
    "        if name.split()[-1] not in suffixes:\n",
    "            suffixes.append(name.split()[-1])\n",
    "        else:\n",
    "            pass\n",
    "print(suffixes)\n",
    "\n",
    "prefixes_suffixes = ['Dr. ', 'Mr. ','Ms. ', 'Mrs. ', 'Miss ', ' MD', ' DDS', ' DVM', ' PhD']"
   ]
  },
  {
   "cell_type": "code",
   "execution_count": 54,
   "metadata": {},
   "outputs": [
    {
     "name": "stderr",
     "output_type": "stream",
     "text": [
      "<ipython-input-54-ba926e840a7d>:3: FutureWarning: The default value of regex will change from True to False in a future version.\n",
      "  student_data[\"student_name\"] = student_data[\"student_name\"].str.replace(word,\"\")\n"
     ]
    }
   ],
   "source": [
    "# Cleaning the names\n",
    "for word in prefixes_suffixes:\n",
    "    student_data['student_name'] = student_data['student_name'].str.replace(word,'')\n",
    "\n",
    "# Done cleaning\n",
    "cleaned_file_path = R'Resources\\cleaned_students.csv'\n",
    "if os.path.exists(cleaned_file_path):\n",
    "    os.remove(cleaned_file_path)\n",
    "    student_data.to_csv(cleaned_file_path)\n",
    "else:\n",
    "    student_data.to_csv(cleaned_file_path)\n",
    "\n",
    "# Create one dataframe\n",
    "cleaned_student_data = pd.read_csv(R'Resources\\students_complete.csv')\n",
    "school_student_df = pd.merge(cleaned_student_data, school_data, on='school_name')"
   ]
  },
  {
   "cell_type": "code",
   "execution_count": 57,
   "metadata": {},
   "outputs": [
    {
     "name": "stdout",
     "output_type": "stream",
     "text": [
      "39170 15\n"
     ]
    }
   ],
   "source": [
    "print(student_count, school_count)"
   ]
  },
  {
   "cell_type": "code",
   "execution_count": 58,
   "metadata": {},
   "outputs": [
    {
     "data": {
      "text/plain": [
       "24649428"
      ]
     },
     "execution_count": 58,
     "metadata": {},
     "output_type": "execute_result"
    }
   ],
   "source": [
    "# Creating analysis information:\n",
    "\n",
    "# Number of students\n",
    "student_count = school_student_df['Student ID'].count()\n",
    "\n",
    "#Number of schools\n",
    "school_count = len(school_student_df['school_name'].unique())\n",
    "\n",
    "# Budget\n",
    "total_budget = school_data['budget'].sum()\n",
    "\n",
    "# Averages\n",
    "average_reading_score = school_student_df[\"reading_score\"].mean()\n",
    "average_math_score = school_student_df[\"math_score\"].mean()\n",
    "\n",
    "#Percentages\n",
    "passing_math_count = school_student_df[school_student_df[\"math_score\"] >= 70].count()[0]\n",
    "passing_reading_count = school_student_df[school_student_df[\"reading_score\"] >= 70].count()[0]\n",
    "passing_math_reading_count = school_student_df[(school_student_df[\"math_score\"] >= 70) & (school_student_df[\"reading_score\"] >= 70)].count()[0]\n",
    "\n",
    "\n",
    "passing_math_percentage = passing_math_count / student_count * 100\n",
    "passing_reading_percentage = passing_reading_count / student_count * 100\n",
    "overall_passing_percentage = passing_math_reading_count / student_count * 100"
   ]
  },
  {
   "cell_type": "code",
   "execution_count": 61,
   "metadata": {},
   "outputs": [
    {
     "name": "stdout",
     "output_type": "stream",
     "text": [
      "81.87784018381414\n",
      "78.98537145774827\n"
     ]
    }
   ],
   "source": [
    "\n"
   ]
  },
  {
   "cell_type": "code",
   "execution_count": 73,
   "metadata": {},
   "outputs": [
    {
     "data": {
      "text/plain": [
       "65.17232575950983"
      ]
     },
     "execution_count": 73,
     "metadata": {},
     "output_type": "execute_result"
    }
   ],
   "source": [
    "passing_math_count = school_student_df[school_student_df[\"math_score\"] >= 70].count()[0]\n",
    "passing_reading_count = school_student_df[school_student_df[\"reading_score\"] >= 70].count()[0]\n",
    "passing_math_reading_count = school_student_df[(school_student_df[\"math_score\"] >= 70) & (school_student_df[\"reading_score\"] >= 70)].count()[0]\n",
    "\n",
    "\n",
    "passing_math_percentage = passing_math_count / student_count * 100\n",
    "passing_reading_percentage = passing_reading_count / student_count * 100\n",
    "\n",
    "# overall_passing_math_reading_count = passing_math_reading[\"student_name\"].count()\n",
    "overall_passing_percentage = passing_math_reading_count / student_count * 100\n",
    "overall_passing_percentage\n"
   ]
  },
  {
   "cell_type": "code",
   "execution_count": null,
   "metadata": {},
   "outputs": [],
   "source": [
    "district_summary_df = pd.DataFrame(\n",
    "          [{\"Total Schools\": school_count,\n",
    "          \"Total Students\": student_count,\n",
    "          \"Total Budget\": total_budget,\n",
    "          \"Average Math Score\": average_math_score,\n",
    "          \"Average Reading Score\": average_reading_score,\n",
    "          \"% Passing Math\": passing_math_percentage,\n",
    "         \"% Passing Reading\": passing_reading_percentage,\n",
    "        \"% Overall Passing\": overall_passing_percentage}])\n",
    "district_summary_df"
   ]
  }
 ],
 "metadata": {
  "interpreter": {
   "hash": "62249ab88f004581040b552093f6a37d297968d50509d16f925c90e58a716667"
  },
  "kernelspec": {
   "display_name": "Python 3.8.5 ('base')",
   "language": "python",
   "name": "python3"
  },
  "language_info": {
   "codemirror_mode": {
    "name": "ipython",
    "version": 3
   },
   "file_extension": ".py",
   "mimetype": "text/x-python",
   "name": "python",
   "nbconvert_exporter": "python",
   "pygments_lexer": "ipython3",
   "version": "3.8.5"
  },
  "orig_nbformat": 4
 },
 "nbformat": 4,
 "nbformat_minor": 2
}
